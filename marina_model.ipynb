{
 "cells": [
  {
   "cell_type": "code",
   "execution_count": 43,
   "id": "12e9ec91",
   "metadata": {},
   "outputs": [],
   "source": [
    "import torch\n",
    "import datasets\n",
    "from datasets import load_dataset\n",
    "from transformers import AutoModelForSequenceClassification, AutoTokenizer"
   ]
  },
  {
   "cell_type": "markdown",
   "id": "7f78750d",
   "metadata": {},
   "source": [
    "## Datasets"
   ]
  },
  {
   "cell_type": "code",
   "execution_count": 44,
   "id": "976da19a",
   "metadata": {},
   "outputs": [],
   "source": [
    "data_files = {\"train\": \"data/train.csv\", \"test\": \"data/test.csv\"}\n",
    "\n",
    "train_dataset = load_dataset(\"csv\", data_files=data_files[\"train\"])\n",
    "train_dataset = train_dataset.with_format(\"torch\") # allows you to directly load the dataset into PyTorch models\n",
    "\n",
    "test_dataset = load_dataset(\"csv\", data_files=data_files[\"test\"])\n",
    "test_dataset = test_dataset.with_format(\"torch\") # allows you to directly load the dataset into PyTorch models"
   ]
  },
  {
   "cell_type": "code",
   "execution_count": 45,
   "id": "05e2c494",
   "metadata": {},
   "outputs": [],
   "source": [
    "# example row in the dataset\n",
    "# train_dataset['train'][0]\n",
    "# train_dataset['train']"
   ]
  },
  {
   "cell_type": "markdown",
   "id": "d3355969",
   "metadata": {},
   "source": [
    "## Load pre-trained BERT model\n",
    "\n",
    "Loads a pretrained BERT model and its corresponding tokenizer from the HuggingFace Transformers library. AutoModelForSequenceClassification loads various types of transformer-based models (like BERT, RoBERTa, GPT, etc.) and adds a sequence classification head on top of the model. The classification head typically consists of a fully connected (dense) layer on top of the pooled output of the transformer, which maps the output to the desired number of classes."
   ]
  },
  {
   "cell_type": "code",
   "execution_count": 46,
   "id": "80b0ce9c",
   "metadata": {},
   "outputs": [
    {
     "name": "stderr",
     "output_type": "stream",
     "text": [
      "Some weights of BertForSequenceClassification were not initialized from the model checkpoint at bert-base-uncased and are newly initialized: ['classifier.bias', 'classifier.weight']\n",
      "You should probably TRAIN this model on a down-stream task to be able to use it for predictions and inference.\n"
     ]
    }
   ],
   "source": [
    "model = AutoModelForSequenceClassification.from_pretrained(\"bert-base-uncased\")\n",
    "tokenizer = AutoTokenizer.from_pretrained(\"bert-base-uncased\")"
   ]
  },
  {
   "cell_type": "markdown",
   "id": "03104b28",
   "metadata": {},
   "source": [
    "## Tokenize the dataset"
   ]
  },
  {
   "cell_type": "code",
   "execution_count": 52,
   "id": "8a88cc04",
   "metadata": {},
   "outputs": [],
   "source": [
    "def tokenize_inputs(q1, q2, previous_correct):\n",
    "    text_input = f\"Q1: {q1} Q2: {q2} Previous Correct: {previous_correct}\"\n",
    "    inputs = tokenizer(text_input, truncation=True, padding='max_length', return_tensors=\"pt\")\n",
    "    \n",
    "    # should they be tokenized separately?\n",
    "#     inputs = tokenizer(previous_correct, q1, q2, truncation=True, padding='max_length', return_tensors=\"pt\")\n",
    "\n",
    "    \n",
    "#     input_ids = torch.tensor(inputs['input_ids'])\n",
    "#     attention_masks = torch.tensor(inputs['attention_mask'])\n",
    "#     return input_ids, attention_masks\n",
    "    \n",
    "    return inputs\n",
    "\n",
    "def tokenize_inputs(batch):\n",
    "    q1 = batch['q1']\n",
    "    q2 = batch['q2']\n",
    "    previous_correct = batch['previous_correct']\n",
    "    \n",
    "#     text_input = f\"Q1: {q1} Q2: {q2} Previous Correct: {previous_correct}\"\n",
    "    text_inputs = [f\"Q1: {q1[i]} Q2: {q2[i]} Previous Correct: {previous_correct[i]}\" for i in range(len(q1))]\n",
    "    inputs = tokenizer(text_inputs, truncation=True, padding='max_length', return_tensors=\"pt\")\n",
    "    \n",
    "    # should they be tokenized separately?\n",
    "#     inputs = tokenizer(previous_correct, q1, q2, truncation=True, padding='max_length', return_tensors=\"pt\")\n",
    "\n",
    "    \n",
    "#     input_ids = torch.tensor(inputs['input_ids'])\n",
    "#     attention_masks = torch.tensor(inputs['attention_mask'])\n",
    "#     return input_ids, attention_masks    \n",
    "    return inputs"
   ]
  },
  {
   "cell_type": "code",
   "execution_count": 53,
   "id": "14bb9d17",
   "metadata": {
    "scrolled": true
   },
   "outputs": [
    {
     "data": {
      "application/vnd.jupyter.widget-view+json": {
       "model_id": "034b38239705432085e923942cc864e6",
       "version_major": 2,
       "version_minor": 0
      },
      "text/plain": [
       "Map:   0%|          | 0/18480 [00:00<?, ? examples/s]"
      ]
     },
     "metadata": {},
     "output_type": "display_data"
    },
    {
     "name": "stdout",
     "output_type": "stream",
     "text": [
      "finished train\n"
     ]
    },
    {
     "data": {
      "application/vnd.jupyter.widget-view+json": {
       "model_id": "95f89c50bd704175a5f7070beb52aebe",
       "version_major": 2,
       "version_minor": 0
      },
      "text/plain": [
       "Map:   0%|          | 0/492 [00:00<?, ? examples/s]"
      ]
     },
     "metadata": {},
     "output_type": "display_data"
    }
   ],
   "source": [
    "tokenized_train_dataset = train_dataset.map(tokenize_inputs, batched=True)\n",
    "print(\"finished train\")\n",
    "tokenized_test_dataset = test_dataset.map(tokenize_inputs, batched=True)"
   ]
  },
  {
   "cell_type": "markdown",
   "id": "50d9df2b",
   "metadata": {},
   "source": [
    "## Finetune BERT model"
   ]
  },
  {
   "cell_type": "code",
   "execution_count": null,
   "id": "c7b3cd05",
   "metadata": {},
   "outputs": [],
   "source": []
  },
  {
   "cell_type": "markdown",
   "id": "6264d8bb",
   "metadata": {},
   "source": [
    "## Questions for Keyon\n",
    "\n",
    "1. Why split the tokenized inputs into input ids and attention masks?\n",
    "2. Is there an art to deciding how multiple inputs get tokenized together? I concatenated all of mine into one string. You seemed to deliberately place \"previous_correct\" before the first question.\n",
    "3. Why did you use BertEnsemble instead of a single BertForSequenceClassification model?\n",
    "4. Did you use GPUs for this stuff? How do you get access?"
   ]
  },
  {
   "cell_type": "code",
   "execution_count": null,
   "id": "72f036d0",
   "metadata": {},
   "outputs": [],
   "source": []
  }
 ],
 "metadata": {
  "kernelspec": {
   "display_name": "Python (humangen)",
   "language": "python",
   "name": "humangen"
  },
  "language_info": {
   "codemirror_mode": {
    "name": "ipython",
    "version": 3
   },
   "file_extension": ".py",
   "mimetype": "text/x-python",
   "name": "python",
   "nbconvert_exporter": "python",
   "pygments_lexer": "ipython3",
   "version": "3.12.5"
  }
 },
 "nbformat": 4,
 "nbformat_minor": 5
}
